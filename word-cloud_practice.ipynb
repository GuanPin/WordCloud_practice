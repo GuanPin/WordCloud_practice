{
 "cells": [
  {
   "cell_type": "markdown",
   "id": "93c59faf",
   "metadata": {},
   "source": [
    "# Word Cloud Practice\n",
    "\n",
    "Guan Pin Chen\n",
    "\n",
    "2021/11/18"
   ]
  },
  {
   "cell_type": "markdown",
   "id": "7ba74d77",
   "metadata": {},
   "source": [
    "## Import the Packages"
   ]
  },
  {
   "cell_type": "code",
   "execution_count": 1,
   "id": "5f86ba83",
   "metadata": {},
   "outputs": [],
   "source": [
    "import pandas, numpy\n",
    "import jieba\n",
    "from collections import Counter\n",
    "from PIL import Image\n",
    "import matplotlib.pyplot as plt\n",
    "import wordcloud\n",
    "from wordcloud import WordCloud, ImageColorGenerator"
   ]
  },
  {
   "cell_type": "markdown",
   "id": "4b1f07ab",
   "metadata": {},
   "source": [
    "## Read Data\n",
    "Read the text file and specific words file for word cloud.<br>\n",
    "The text file is an introduction regarding my experience in data analysis."
   ]
  },
  {
   "cell_type": "code",
   "execution_count": 2,
   "id": "a4c8f8bf",
   "metadata": {},
   "outputs": [
    {
     "name": "stderr",
     "output_type": "stream",
     "text": [
      "Building prefix dict from the default dictionary ...\n",
      "Dumping model to file cache C:\\Users\\acer\\AppData\\Local\\Temp\\jieba.cache\n",
      "Loading model cost 3.902 seconds.\n",
      "Prefix dict has been built succesfully.\n"
     ]
    }
   ],
   "source": [
    "text = open('C:/Users/acer/workspace/practice/wordcloud/text1.txt', 'r', encoding='utf-8').read()\n",
    "jieba.load_userdict('C:/Users/acer/workspace/practice/wordcloud/words.txt')"
   ]
  },
  {
   "cell_type": "markdown",
   "id": "e99140e1",
   "metadata": {},
   "source": [
    "## Cut and Count the Words"
   ]
  },
  {
   "cell_type": "code",
   "execution_count": 4,
   "id": "582813fb",
   "metadata": {},
   "outputs": [
    {
     "name": "stdout",
     "output_type": "stream",
     "text": [
      "Counter({' ': 66, '，': 38, '\\n': 17, '統計': 16, '是': 15, '在': 12, '也': 12, '相關': 10, '我': 9, '。': 9, '數據分析': 8, '有': 8, '、': 8, 'R語言': 8, '理論': 7, '這': 7, 'Python': 7, '機器學習': 7, '都': 6, '個': 6, '工具': 6, 'Google': 6, '建模': 6, '一': 5, ',': 5, '臺灣': 4, '屏東': 4, '跟': 4, '像': 4, '資料分析': 4, '當中': 4, '進行': 4, '因此': 4, '去': 4, '更': 4, '學習': 4, '成功大學': 3, '大學': 3, '因為': 3, '了解': 3, '大': 3, '主要': 3, '堂課': 3, '讓': 3, '上': 3, '中': 3, '一些': 3, '方法': 3, '使用': 3, '自學': 3, '能力': 3, '持續': 3, '能': 3, '推導': 3, '台南': 3, '畢業': 2, '時期': 2, '所學': 2, '而': 2, '大三': 2, '次': 2, '完整': 2, '應用': 2, '分析': 2, '資料': 2, '需要': 2, '除了': 2, '實作': 2, '之外': 2, '我們': 2, '醫學': 2, '知識': 2, '之後': 2, '教授': 2, '計畫': 2, '研究': 2, '新': 2, '生物資訊': 2, '很多': 2, '論文': 2, 'Linux': 2, '累積': 2, '一點': 2, '的': 2, '線上課程': 2, '常見': 2, '叫': 1, '陳冠頻': 1, '來自': 1, '於': 1, '臺南': 1, '學系': 1, '主修': 1, '科系': 1, '對於': 1, '比較': 1, '深入': 1, '大一': 1, '二時': 1, '東西': 1, '以': 1, '數學': 1, '為主': 1, '數理': 1, '微積分': 1, '線性': 1, '代數': 1, '大四': 1, '開始': 1, '漸漸': 1, '接觸': 1, '真實': 1, '時候': 1, '修了': 1, '時間序列': 1, '算是': 1, '第': 1, '地': 1, '流程': 1, '從': 1, '資料處理': 1, '建立': 1, '模型': 1, '殘差分析': 1, '視覺化': 1, '每': 1, '步驟': 1, '走過': 1, '一遍': 1, '更加': 1, '如何': 1, '四時': 1, '更多': 1, '報告': 1, '實際': 1, '呈現': 1, '結果': 1, '課程': 1, '諮詢': 1, '簡單': 1, '在學': 1, '期末': 1, '專題': 1, '發表': 1, '組作': 1, '選擇': 1, '留在': 1, '學校': 1, '擔任': 1, '研究助理': 1, '要': 1, '針對': 1, '還': 1, '孕婦': 1, '肚子': 1, '內': 1, '胎兒': 1, '發生': 1, '遺傳變異': 1, '機率': 1, '預測': 1, '專有名詞': 1, '非侵入性產前檢測': 1, '(': 1, 'NIPT': 1, ')': 1, '過程': 1, '不過': 1, '分子醫學': 1, '生物': 1, '或是': 1, '時常': 1, '參考': 1, '並': 1, '有時候': 1, '會': 1, '把': 1, '提出': 1, '加進': 1, '所以': 1, '這一': 1, '段': 1, '時間': 1, '獨立作業': 1, '以及': 1, '解決問題': 1, '很': 1, '提升': 1, '此外': 1, '必須': 1, '系統': 1, '來': 1, '執行': 1, '了': 1, '不少': 1, '操作': 1, '經驗': 1, '最多': 1, '現在': 1, '最': 1, '擅長': 1, '學過': 1, 'Minitab': 1, 'SPSS': 1, '一直': 1, '常用': 1, '各': 1, '種': 1, '透過': 1, '臺大': 1, '開': 1, '深度學習': 1, '然後': 1, '除此之外': 1, '參加': 1, '開一門': 1, '教': 1, '及': 1, 'Excel': 1, 'SQL': 1, 'Tableau': 1, '些': 1, '基礎': 1, '認為': 1, '未來': 1, '工作': 1, '效率': 1, '自信': 1, '面對': 1, '挑戰': 1, '個性': 1, '認真': 1, '負責': 1, '樂於': 1, '事物': 1, '希望': 1, '往': 1, '領域': 1, '發展': 1, '技能': 1, '自己': 1, '能夠': 1, '成為': 1, '全面': 1, '資料分析師': 1})\n"
     ]
    }
   ],
   "source": [
    "seg_list = jieba.lcut(text, cut_all=False)\n",
    "dictionary = Counter(seg_list)\n",
    "print(dictionary)\n",
    "#len(dictionary)"
   ]
  },
  {
   "cell_type": "markdown",
   "id": "174864c1",
   "metadata": {},
   "source": [
    "## Set Stop Words\n",
    "Choose the unnecessary words in the text file as stop words. Therefore, these words would not appear in the wordcloud image."
   ]
  },
  {
   "cell_type": "code",
   "execution_count": 5,
   "id": "b5fd3afa",
   "metadata": {},
   "outputs": [
    {
     "data": {
      "text/plain": [
       "[66, 38, 9, 8, None, 15, 12, 12]"
      ]
     },
     "execution_count": 5,
     "metadata": {},
     "output_type": "execute_result"
    }
   ],
   "source": [
    "stopword = [' ', '，', '。', '、', '/n', '是', '也', '在']\n",
    "[dictionary.pop(x, None) for x in stopword]"
   ]
  },
  {
   "cell_type": "markdown",
   "id": "f4d8d82f",
   "metadata": {},
   "source": [
    "## Create the Word Cloud\n",
    "First, setting the path of the path for the type of words. Then, read the picture for the shape of word cloud. The final step is to set the parameters about word cloud and print it."
   ]
  },
  {
   "cell_type": "code",
   "execution_count": 8,
   "id": "c0f01dee",
   "metadata": {
    "scrolled": false
   },
   "outputs": [
    {
     "data": {
      "text/plain": [
       "<matplotlib.image.AxesImage at 0x2157d72a0a0>"
      ]
     },
     "execution_count": 8,
     "metadata": {},
     "output_type": "execute_result"
    },
    {
     "data": {
      "image/png": "[encoded data removed]",
      "text/plain": [
       "<Figure size 432x288 with 1 Axes>"
      ]
     },
     "metadata": {
      "needs_background": "light"
     },
     "output_type": "display_data"
    }
   ],
   "source": [
    "font_path = 'C:/Users/acer/workspace/practice/jf-openhuninn-1.1/jf-openhuninn-1.1/jf-openhuninn-1.1.ttf'\n",
    "mask_color = numpy.array(Image.open('C:/Users/acer/workspace/practice/wordcloud/picture.png'))\n",
    "mask_color = mask_color[::3, ::3]\n",
    "mask_image = mask_color.copy()\n",
    "mask_image[mask_image.sum(axis=2) == 0] = 255 \n",
    "\n",
    "wc = wordcloud.WordCloud(background_color='#FDF3ED',\n",
    "                         margin=2,\n",
    "                         mask=mask_image, \n",
    "                         font_path=font_path,\n",
    "                         max_words=245, \n",
    "                         width=211200, height=48000,\n",
    "                         relative_scaling=0.5, \n",
    "                         max_font_size=80,\n",
    "                         min_font_size=1,\n",
    "                         scale=5 \n",
    "                         )\n",
    "\n",
    "wc.generate_from_frequencies(dictionary) \n",
    "\n",
    "image_colors = ImageColorGenerator(mask_color)\n",
    "wc.recolor(color_func=image_colors)\n",
    "\n",
    "plt.imshow(wc)"
   ]
  },
  {
   "cell_type": "markdown",
   "id": "bf71c16d",
   "metadata": {},
   "source": [
    "## Save the Image"
   ]
  },
  {
   "cell_type": "code",
   "execution_count": 10,
   "id": "c868156c",
   "metadata": {},
   "outputs": [
    {
     "data": {
      "text/plain": [
       "<wordcloud.wordcloud.WordCloud at 0x2157fe4a790>"
      ]
     },
     "execution_count": 10,
     "metadata": {},
     "output_type": "execute_result"
    }
   ],
   "source": [
    "wc.to_file('C:/Users/acer/workspace/practice/wordcloud/my_wordcloud.jpg')"
   ]
  },
  {
   "cell_type": "code",
   "execution_count": 9,
   "id": "c3b5796f",
   "metadata": {},
   "outputs": [
    {
     "data": {
      "image/png": "[encoded data removed]",
      "text/plain": [
       "<Figure size 432x288 with 1 Axes>"
      ]
     },
     "metadata": {
      "needs_background": "light"
     },
     "output_type": "display_data"
    }
   ],
   "source": [
    "plt.imshow(wc)\n",
    "plt.axis(\"off\")\n",
    "plt.savefig(\"C:/Users/acer/workspace/practice/wordcloud/my_wordcloud1.png\",dpi=1000)"
   ]
  }
 ],
 "metadata": {
  "kernelspec": {
   "display_name": "Python 3",
   "language": "python",
   "name": "python3"
  },
  "language_info": {
   "codemirror_mode": {
    "name": "ipython",
    "version": 3
   },
   "file_extension": ".py",
   "mimetype": "text/x-python",
   "name": "python",
   "nbconvert_exporter": "python",
   "pygments_lexer": "ipython3",
   "version": "3.8.8"
  }
 },
 "nbformat": 4,
 "nbformat_minor": 5
}
